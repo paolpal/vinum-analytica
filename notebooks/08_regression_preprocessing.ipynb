{
 "cells": [
  {
   "cell_type": "code",
   "execution_count": 1,
   "metadata": {},
   "outputs": [],
   "source": [
    "from vinum_analytica.data.dataset import WineDatasetManager # type: ignore\n",
    "\n",
    "dataset = WineDatasetManager.read_csv('../data/raw/clean_data_regression.csv', y_label='price')\n",
    "dataset.preprocess()\n",
    "dataset.save('../data/processed/clean_data_regression.csv')"
   ]
  },
  {
   "cell_type": "code",
   "execution_count": 2,
   "metadata": {},
   "outputs": [],
   "source": [
    "dataset.load('../data/processed/clean_data_regression.csv')\n",
    "train, test = dataset.split()\n",
    "train.save('../data/processed/train_regression.csv')\n",
    "test.save('../data/processed/test_regression.csv')"
   ]
  }
 ],
 "metadata": {
  "kernelspec": {
   "display_name": "DMML",
   "language": "python",
   "name": "python3"
  },
  "language_info": {
   "codemirror_mode": {
    "name": "ipython",
    "version": 3
   },
   "file_extension": ".py",
   "mimetype": "text/x-python",
   "name": "python",
   "nbconvert_exporter": "python",
   "pygments_lexer": "ipython3",
   "version": "3.11.5"
  }
 },
 "nbformat": 4,
 "nbformat_minor": 2
}
