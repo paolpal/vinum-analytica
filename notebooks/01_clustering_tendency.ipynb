{
 "cells": [
  {
   "cell_type": "markdown",
   "metadata": {},
   "source": [
    "# Wine Reviews Data Analysis\n",
    "\n",
    "In questo notebook, analizzeremo un dataset di recensioni di vini. Effettueremo operazioni di campionamento, tokenizzazione delle descrizioni e infine valuteremo la tendenza al clustering usando un approccio basato sugli angoli."
   ]
  },
  {
   "cell_type": "code",
   "execution_count": 1,
   "metadata": {},
   "outputs": [],
   "source": [
    "from matplotlib import pyplot as plt # type: ignore\n",
    "import seaborn as sns # type: ignore\n",
    "import pandas as pd # type: ignore\n",
    "import numpy as np  # type: ignore\n",
    "from sklearn.feature_extraction.text import CountVectorizer, TfidfVectorizer # type: ignore\n",
    "\n",
    "import dmml.clustering.angle_based_clustering_tendency as abct  # type: ignore"
   ]
  },
  {
   "cell_type": "markdown",
   "metadata": {},
   "source": [
    "## Caricamento del Dataset\n",
    "\n",
    "Apriamo il dataset delle recensioni di vini utilizzando Pandas."
   ]
  },
  {
   "cell_type": "code",
   "execution_count": 2,
   "metadata": {},
   "outputs": [],
   "source": [
    "# Open the dataset with pandas\n",
    "dataset = pd.read_csv('../data/winemag-data-130k-v2.csv')"
   ]
  },
  {
   "cell_type": "markdown",
   "metadata": {},
   "source": [
    "## Campionamento del Dataset\n",
    "\n",
    "Campioniamo il dataset con rimpiazzo per ottenere un campione pari al 5% del totale."
   ]
  },
  {
   "cell_type": "code",
   "execution_count": 3,
   "metadata": {},
   "outputs": [
    {
     "name": "stdout",
     "output_type": "stream",
     "text": [
      "Original dataset size: 129971\n",
      "Sampled dataset size: 1300\n"
     ]
    }
   ],
   "source": [
    "# Sample the dataset with replacement for a 5%\n",
    "sampled_dataset = dataset.sample(frac=0.01, replace=True)\n",
    "\n",
    "# Print the sizes of the original and sampled datasets\n",
    "print('Original dataset size:', len(dataset))\n",
    "print('Sampled dataset size:', len(sampled_dataset))"
   ]
  },
  {
   "cell_type": "markdown",
   "metadata": {},
   "source": [
    "## Tokenizzazione della Colonna Descrizione\n",
    "\n",
    "In questa sezione tokenizziamo la colonna delle descrizioni dei vini utilizzando il `TfidfVectorizer`."
   ]
  },
  {
   "cell_type": "code",
   "execution_count": 4,
   "metadata": {},
   "outputs": [
    {
     "data": {
      "text/plain": [
       "((129971, 30982), scipy.sparse._csr.csr_matrix)"
      ]
     },
     "execution_count": 4,
     "metadata": {},
     "output_type": "execute_result"
    }
   ],
   "source": [
    "# Create an instance of TfidfVectorizer\n",
    "vectorizer = TfidfVectorizer(stop_words='english')\n",
    "\n",
    "# Fit and transform the description column\n",
    "description_tokens = vectorizer.fit_transform(dataset['description'])\n",
    "\n",
    "# Print the shape of the tokenized description\n",
    "description_tokens.shape, type(description_tokens)"
   ]
  },
  {
   "cell_type": "markdown",
   "metadata": {},
   "source": [
    "## Analisi della Tendenza al Clustering\n",
    "\n",
    "Infine, utilizziamo un metodo basato sugli angoli per valutare la tendenza al clustering dei dati tokenizzati. (Questa sezione è attualmente commentata, quindi non sarà eseguita.)"
   ]
  },
  {
   "cell_type": "code",
   "execution_count": 5,
   "metadata": {},
   "outputs": [],
   "source": [
    "# Uncomment the following lines to execute clustering tendency analysis\n",
    "# description_tokens = description_tokens.toarray()\n",
    "# tendency = abct.angle_based_clustering_tendency(description_tokens, 10)\n",
    "# print(tendency)"
   ]
  }
 ],
 "metadata": {
  "kernelspec": {
   "display_name": "Python 3",
   "language": "python",
   "name": "python3"
  },
  "language_info": {
   "codemirror_mode": {
    "name": "ipython",
    "version": 3
   },
   "file_extension": ".py",
   "mimetype": "text/x-python",
   "name": "python",
   "nbconvert_exporter": "python",
   "pygments_lexer": "ipython3",
   "version": "3.11.5"
  }
 },
 "nbformat": 4,
 "nbformat_minor": 4
}
